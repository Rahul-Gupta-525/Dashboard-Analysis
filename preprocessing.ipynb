{
 "cells": [
  {
   "cell_type": "code",
   "execution_count": null,
   "metadata": {},
   "outputs": [],
   "source": [
    "import pandas as pd\n",
    "import numpy as np\n",
    "from selenium import webdriver\n",
    "from selenium.webdriver.common.by import By\n",
    "import time"
   ]
  },
  {
   "cell_type": "code",
   "execution_count": null,
   "metadata": {},
   "outputs": [],
   "source": [
    "url = \"https://www.imdb.com/list/ls002939221/?genres=drama\"\n",
    "driver  = webdriver.Chrome()\n",
    "driver.get(url)\n",
    "driver.maximize_window()"
   ]
  },
  {
   "cell_type": "code",
   "execution_count": 7,
   "metadata": {},
   "outputs": [
    {
     "data": {
      "text/plain": [
       "'1. American Psycho'"
      ]
     },
     "execution_count": 7,
     "metadata": {},
     "output_type": "execute_result"
    }
   ],
   "source": [
    "# For scraping movies name\n",
    "name = driver.find_element(By.CLASS_NAME,\"ipc-title__text\").text\n",
    "name"
   ]
  },
  {
   "cell_type": "code",
   "execution_count": 8,
   "metadata": {},
   "outputs": [
    {
     "data": {
      "text/plain": [
       "'7.6'"
      ]
     },
     "execution_count": 8,
     "metadata": {},
     "output_type": "execute_result"
    }
   ],
   "source": [
    "#for rating\n",
    "rating = driver.find_element(By.CLASS_NAME, \"ipc-rating-star--rating\").text\n",
    "rating"
   ]
  },
  {
   "cell_type": "code",
   "execution_count": 9,
   "metadata": {},
   "outputs": [
    {
     "data": {
      "text/plain": [
       "'2000'"
      ]
     },
     "execution_count": 9,
     "metadata": {},
     "output_type": "execute_result"
    }
   ],
   "source": [
    "# For duration\n",
    "year = driver.find_element(By.CLASS_NAME, \"sc-d5ea4b9d-7\").text\n",
    "year"
   ]
  },
  {
   "cell_type": "code",
   "execution_count": 10,
   "metadata": {},
   "outputs": [
    {
     "data": {
      "text/plain": [
       "'1h 42m'"
      ]
     },
     "execution_count": 10,
     "metadata": {},
     "output_type": "execute_result"
    }
   ],
   "source": [
    "# For year\n",
    "duration = driver.find_element(By.CLASS_NAME, \"sc-d5ea4b9d-6\").text\n",
    "duration.split(\"\\n\")[1]\n"
   ]
  },
  {
   "cell_type": "code",
   "execution_count": 11,
   "metadata": {},
   "outputs": [
    {
     "data": {
      "text/plain": [
       "'64'"
      ]
     },
     "execution_count": 11,
     "metadata": {},
     "output_type": "execute_result"
    }
   ],
   "source": [
    "driver.find_element(By.CLASS_NAME, \"sc-b0901df4-0\").text"
   ]
  },
  {
   "cell_type": "code",
   "execution_count": 12,
   "metadata": {},
   "outputs": [],
   "source": [
    "url = \"https://www.imdb.com/list/ls002939221/?genres=drama\"\n",
    "genres = [\"drama\",\"thriller\",\"action\",\"comedy\",\"adventure\",\"romance\",\"sci-fi\",\"mystery\",\"horror\",\"crime\"]\n"
   ]
  },
  {
   "cell_type": "code",
   "execution_count": 13,
   "metadata": {},
   "outputs": [
    {
     "data": {
      "text/plain": [
       "'Mary Harron'"
      ]
     },
     "execution_count": 13,
     "metadata": {},
     "output_type": "execute_result"
    }
   ],
   "source": [
    "# director\n",
    "driver.find_element(By.CLASS_NAME, \"sc-d49a611d-2\").text"
   ]
  },
  {
   "cell_type": "code",
   "execution_count": 156,
   "metadata": {},
   "outputs": [
    {
     "data": {
      "text/plain": [
       "'Director'"
      ]
     },
     "execution_count": 156,
     "metadata": {},
     "output_type": "execute_result"
    }
   ],
   "source": [
    "driver.find_element(By.CLASS_NAME,\"sc-d49a611d-3\").text"
   ]
  },
  {
   "cell_type": "code",
   "execution_count": 15,
   "metadata": {},
   "outputs": [
    {
     "data": {
      "text/plain": [
       "'64\\nMetascore'"
      ]
     },
     "execution_count": 15,
     "metadata": {},
     "output_type": "execute_result"
    }
   ],
   "source": [
    "# metascore\n",
    "driver.find_element(By.CLASS_NAME, \"sc-d5ea4b9d-9\").text"
   ]
  },
  {
   "cell_type": "code",
   "execution_count": 16,
   "metadata": {},
   "outputs": [],
   "source": [
    "movie2 = []\n",
    "for genre in genres:\n",
    "    url = f\"https://www.imdb.com/list/ls002939221/?genres={genre}\"\n",
    "    driver.get(url)\n",
    "    \n",
    "    # Scroll to the bottom to ensure all elements are loaded\n",
    "    driver.execute_script(\"window.scrollTo(0, document.body.scrollHeight);\")\n",
    "    time.sleep(5)  # Allow time for the page to load fully\n",
    "    \n",
    "    # Find all movies in the list\n",
    "    movie_elements = driver.find_elements(By.CLASS_NAME, \"sc-e2db8066-1\")\n",
    "    time.sleep(1)\n",
    "    \n",
    "    for movie_element in movie_elements:\n",
    "        try:\n",
    "            # Extract movie details with error handling\n",
    "            name = movie_element.find_element(By.CLASS_NAME, \"ipc-title__text\").text\n",
    "            \n",
    "            # Handle cases where rating might not exist\n",
    "            try:\n",
    "                rating = movie_element.find_element(By.CLASS_NAME, \"ipc-rating-star--rating\").text\n",
    "            except:\n",
    "                rating = \"N/A\"  # Default value if rating is not found\n",
    "            try:\n",
    "                director = movie_element.find_element(By.CLASS_NAME, \"sc-d49a611d-2\").text\n",
    "            except:\n",
    "                director = \"N/A\"\n",
    "\n",
    "            # Handle cases where duration and year are missing\n",
    "            try:\n",
    "                details = movie_element.find_element(By.CLASS_NAME, \"sc-d5ea4b9d-6\").text.split(\"\\n\")\n",
    "                year = details[0] if len(details) > 0 else \"N/A\"\n",
    "                duration = details[1] if len(details) > 1 else \"N/A\"\n",
    "            except:\n",
    "                year = \"N/A\"\n",
    "                duration = \"N/A\"\n",
    "            try:\n",
    "                meta_score = movie_element.find_element(By.CLASS_NAME, \"sc-d5ea4b9d-9\").text\n",
    "            except:\n",
    "                meta_score = \"N/A\"\n",
    "\n",
    "            # Append the extracted data\n",
    "            data = {\n",
    "                \"Movie_name\": name,\n",
    "                \"Rating\": rating,\n",
    "                \"Duration\": duration,\n",
    "                \"Release_year\": year,\n",
    "                \"Genre\": genre,\n",
    "                \"Director\" : director,\n",
    "                \"Meta-score\" : meta_score\n",
    "            }\n",
    "            movie2.append(data)\n",
    "        \n",
    "        except Exception as e:\n",
    "            # Log the error for debugging\n",
    "            print(f\"Error scraping movie details: {e}\")\n",
    "            continue\n",
    "\n"
   ]
  },
  {
   "cell_type": "code",
   "execution_count": 159,
   "metadata": {},
   "outputs": [
    {
     "data": {
      "text/plain": [
       "[<selenium.webdriver.remote.webelement.WebElement (session=\"0e02be0d95f1e138ff230a46dc1ed6a7\", element=\"f.94B09AFCDDBDC99047C8A2BB7CB279FB.d.6D07185AD7079D7033D7A631EC429FFB.e.9920\")>,\n",
       " <selenium.webdriver.remote.webelement.WebElement (session=\"0e02be0d95f1e138ff230a46dc1ed6a7\", element=\"f.94B09AFCDDBDC99047C8A2BB7CB279FB.d.6D07185AD7079D7033D7A631EC429FFB.e.9921\")>,\n",
       " <selenium.webdriver.remote.webelement.WebElement (session=\"0e02be0d95f1e138ff230a46dc1ed6a7\", element=\"f.94B09AFCDDBDC99047C8A2BB7CB279FB.d.6D07185AD7079D7033D7A631EC429FFB.e.9922\")>,\n",
       " <selenium.webdriver.remote.webelement.WebElement (session=\"0e02be0d95f1e138ff230a46dc1ed6a7\", element=\"f.94B09AFCDDBDC99047C8A2BB7CB279FB.d.6D07185AD7079D7033D7A631EC429FFB.e.9923\")>,\n",
       " <selenium.webdriver.remote.webelement.WebElement (session=\"0e02be0d95f1e138ff230a46dc1ed6a7\", element=\"f.94B09AFCDDBDC99047C8A2BB7CB279FB.d.6D07185AD7079D7033D7A631EC429FFB.e.9924\")>,\n",
       " <selenium.webdriver.remote.webelement.WebElement (session=\"0e02be0d95f1e138ff230a46dc1ed6a7\", element=\"f.94B09AFCDDBDC99047C8A2BB7CB279FB.d.6D07185AD7079D7033D7A631EC429FFB.e.9925\")>,\n",
       " <selenium.webdriver.remote.webelement.WebElement (session=\"0e02be0d95f1e138ff230a46dc1ed6a7\", element=\"f.94B09AFCDDBDC99047C8A2BB7CB279FB.d.6D07185AD7079D7033D7A631EC429FFB.e.9926\")>,\n",
       " <selenium.webdriver.remote.webelement.WebElement (session=\"0e02be0d95f1e138ff230a46dc1ed6a7\", element=\"f.94B09AFCDDBDC99047C8A2BB7CB279FB.d.6D07185AD7079D7033D7A631EC429FFB.e.9927\")>,\n",
       " <selenium.webdriver.remote.webelement.WebElement (session=\"0e02be0d95f1e138ff230a46dc1ed6a7\", element=\"f.94B09AFCDDBDC99047C8A2BB7CB279FB.d.6D07185AD7079D7033D7A631EC429FFB.e.9928\")>,\n",
       " <selenium.webdriver.remote.webelement.WebElement (session=\"0e02be0d95f1e138ff230a46dc1ed6a7\", element=\"f.94B09AFCDDBDC99047C8A2BB7CB279FB.d.6D07185AD7079D7033D7A631EC429FFB.e.9929\")>,\n",
       " <selenium.webdriver.remote.webelement.WebElement (session=\"0e02be0d95f1e138ff230a46dc1ed6a7\", element=\"f.94B09AFCDDBDC99047C8A2BB7CB279FB.d.6D07185AD7079D7033D7A631EC429FFB.e.9930\")>,\n",
       " <selenium.webdriver.remote.webelement.WebElement (session=\"0e02be0d95f1e138ff230a46dc1ed6a7\", element=\"f.94B09AFCDDBDC99047C8A2BB7CB279FB.d.6D07185AD7079D7033D7A631EC429FFB.e.9931\")>,\n",
       " <selenium.webdriver.remote.webelement.WebElement (session=\"0e02be0d95f1e138ff230a46dc1ed6a7\", element=\"f.94B09AFCDDBDC99047C8A2BB7CB279FB.d.6D07185AD7079D7033D7A631EC429FFB.e.9932\")>,\n",
       " <selenium.webdriver.remote.webelement.WebElement (session=\"0e02be0d95f1e138ff230a46dc1ed6a7\", element=\"f.94B09AFCDDBDC99047C8A2BB7CB279FB.d.6D07185AD7079D7033D7A631EC429FFB.e.9933\")>,\n",
       " <selenium.webdriver.remote.webelement.WebElement (session=\"0e02be0d95f1e138ff230a46dc1ed6a7\", element=\"f.94B09AFCDDBDC99047C8A2BB7CB279FB.d.6D07185AD7079D7033D7A631EC429FFB.e.9934\")>,\n",
       " <selenium.webdriver.remote.webelement.WebElement (session=\"0e02be0d95f1e138ff230a46dc1ed6a7\", element=\"f.94B09AFCDDBDC99047C8A2BB7CB279FB.d.6D07185AD7079D7033D7A631EC429FFB.e.9935\")>,\n",
       " <selenium.webdriver.remote.webelement.WebElement (session=\"0e02be0d95f1e138ff230a46dc1ed6a7\", element=\"f.94B09AFCDDBDC99047C8A2BB7CB279FB.d.6D07185AD7079D7033D7A631EC429FFB.e.9936\")>,\n",
       " <selenium.webdriver.remote.webelement.WebElement (session=\"0e02be0d95f1e138ff230a46dc1ed6a7\", element=\"f.94B09AFCDDBDC99047C8A2BB7CB279FB.d.6D07185AD7079D7033D7A631EC429FFB.e.9937\")>,\n",
       " <selenium.webdriver.remote.webelement.WebElement (session=\"0e02be0d95f1e138ff230a46dc1ed6a7\", element=\"f.94B09AFCDDBDC99047C8A2BB7CB279FB.d.6D07185AD7079D7033D7A631EC429FFB.e.9938\")>,\n",
       " <selenium.webdriver.remote.webelement.WebElement (session=\"0e02be0d95f1e138ff230a46dc1ed6a7\", element=\"f.94B09AFCDDBDC99047C8A2BB7CB279FB.d.6D07185AD7079D7033D7A631EC429FFB.e.9939\")>,\n",
       " <selenium.webdriver.remote.webelement.WebElement (session=\"0e02be0d95f1e138ff230a46dc1ed6a7\", element=\"f.94B09AFCDDBDC99047C8A2BB7CB279FB.d.6D07185AD7079D7033D7A631EC429FFB.e.9940\")>,\n",
       " <selenium.webdriver.remote.webelement.WebElement (session=\"0e02be0d95f1e138ff230a46dc1ed6a7\", element=\"f.94B09AFCDDBDC99047C8A2BB7CB279FB.d.6D07185AD7079D7033D7A631EC429FFB.e.9941\")>,\n",
       " <selenium.webdriver.remote.webelement.WebElement (session=\"0e02be0d95f1e138ff230a46dc1ed6a7\", element=\"f.94B09AFCDDBDC99047C8A2BB7CB279FB.d.6D07185AD7079D7033D7A631EC429FFB.e.9942\")>,\n",
       " <selenium.webdriver.remote.webelement.WebElement (session=\"0e02be0d95f1e138ff230a46dc1ed6a7\", element=\"f.94B09AFCDDBDC99047C8A2BB7CB279FB.d.6D07185AD7079D7033D7A631EC429FFB.e.9943\")>,\n",
       " <selenium.webdriver.remote.webelement.WebElement (session=\"0e02be0d95f1e138ff230a46dc1ed6a7\", element=\"f.94B09AFCDDBDC99047C8A2BB7CB279FB.d.6D07185AD7079D7033D7A631EC429FFB.e.9944\")>,\n",
       " <selenium.webdriver.remote.webelement.WebElement (session=\"0e02be0d95f1e138ff230a46dc1ed6a7\", element=\"f.94B09AFCDDBDC99047C8A2BB7CB279FB.d.6D07185AD7079D7033D7A631EC429FFB.e.9945\")>,\n",
       " <selenium.webdriver.remote.webelement.WebElement (session=\"0e02be0d95f1e138ff230a46dc1ed6a7\", element=\"f.94B09AFCDDBDC99047C8A2BB7CB279FB.d.6D07185AD7079D7033D7A631EC429FFB.e.9946\")>,\n",
       " <selenium.webdriver.remote.webelement.WebElement (session=\"0e02be0d95f1e138ff230a46dc1ed6a7\", element=\"f.94B09AFCDDBDC99047C8A2BB7CB279FB.d.6D07185AD7079D7033D7A631EC429FFB.e.9947\")>,\n",
       " <selenium.webdriver.remote.webelement.WebElement (session=\"0e02be0d95f1e138ff230a46dc1ed6a7\", element=\"f.94B09AFCDDBDC99047C8A2BB7CB279FB.d.6D07185AD7079D7033D7A631EC429FFB.e.9948\")>,\n",
       " <selenium.webdriver.remote.webelement.WebElement (session=\"0e02be0d95f1e138ff230a46dc1ed6a7\", element=\"f.94B09AFCDDBDC99047C8A2BB7CB279FB.d.6D07185AD7079D7033D7A631EC429FFB.e.9949\")>,\n",
       " <selenium.webdriver.remote.webelement.WebElement (session=\"0e02be0d95f1e138ff230a46dc1ed6a7\", element=\"f.94B09AFCDDBDC99047C8A2BB7CB279FB.d.6D07185AD7079D7033D7A631EC429FFB.e.9950\")>,\n",
       " <selenium.webdriver.remote.webelement.WebElement (session=\"0e02be0d95f1e138ff230a46dc1ed6a7\", element=\"f.94B09AFCDDBDC99047C8A2BB7CB279FB.d.6D07185AD7079D7033D7A631EC429FFB.e.9951\")>,\n",
       " <selenium.webdriver.remote.webelement.WebElement (session=\"0e02be0d95f1e138ff230a46dc1ed6a7\", element=\"f.94B09AFCDDBDC99047C8A2BB7CB279FB.d.6D07185AD7079D7033D7A631EC429FFB.e.9952\")>,\n",
       " <selenium.webdriver.remote.webelement.WebElement (session=\"0e02be0d95f1e138ff230a46dc1ed6a7\", element=\"f.94B09AFCDDBDC99047C8A2BB7CB279FB.d.6D07185AD7079D7033D7A631EC429FFB.e.9953\")>,\n",
       " <selenium.webdriver.remote.webelement.WebElement (session=\"0e02be0d95f1e138ff230a46dc1ed6a7\", element=\"f.94B09AFCDDBDC99047C8A2BB7CB279FB.d.6D07185AD7079D7033D7A631EC429FFB.e.9954\")>,\n",
       " <selenium.webdriver.remote.webelement.WebElement (session=\"0e02be0d95f1e138ff230a46dc1ed6a7\", element=\"f.94B09AFCDDBDC99047C8A2BB7CB279FB.d.6D07185AD7079D7033D7A631EC429FFB.e.9955\")>,\n",
       " <selenium.webdriver.remote.webelement.WebElement (session=\"0e02be0d95f1e138ff230a46dc1ed6a7\", element=\"f.94B09AFCDDBDC99047C8A2BB7CB279FB.d.6D07185AD7079D7033D7A631EC429FFB.e.9956\")>,\n",
       " <selenium.webdriver.remote.webelement.WebElement (session=\"0e02be0d95f1e138ff230a46dc1ed6a7\", element=\"f.94B09AFCDDBDC99047C8A2BB7CB279FB.d.6D07185AD7079D7033D7A631EC429FFB.e.9957\")>,\n",
       " <selenium.webdriver.remote.webelement.WebElement (session=\"0e02be0d95f1e138ff230a46dc1ed6a7\", element=\"f.94B09AFCDDBDC99047C8A2BB7CB279FB.d.6D07185AD7079D7033D7A631EC429FFB.e.9958\")>,\n",
       " <selenium.webdriver.remote.webelement.WebElement (session=\"0e02be0d95f1e138ff230a46dc1ed6a7\", element=\"f.94B09AFCDDBDC99047C8A2BB7CB279FB.d.6D07185AD7079D7033D7A631EC429FFB.e.9959\")>,\n",
       " <selenium.webdriver.remote.webelement.WebElement (session=\"0e02be0d95f1e138ff230a46dc1ed6a7\", element=\"f.94B09AFCDDBDC99047C8A2BB7CB279FB.d.6D07185AD7079D7033D7A631EC429FFB.e.9960\")>,\n",
       " <selenium.webdriver.remote.webelement.WebElement (session=\"0e02be0d95f1e138ff230a46dc1ed6a7\", element=\"f.94B09AFCDDBDC99047C8A2BB7CB279FB.d.6D07185AD7079D7033D7A631EC429FFB.e.9961\")>,\n",
       " <selenium.webdriver.remote.webelement.WebElement (session=\"0e02be0d95f1e138ff230a46dc1ed6a7\", element=\"f.94B09AFCDDBDC99047C8A2BB7CB279FB.d.6D07185AD7079D7033D7A631EC429FFB.e.9962\")>,\n",
       " <selenium.webdriver.remote.webelement.WebElement (session=\"0e02be0d95f1e138ff230a46dc1ed6a7\", element=\"f.94B09AFCDDBDC99047C8A2BB7CB279FB.d.6D07185AD7079D7033D7A631EC429FFB.e.9963\")>,\n",
       " <selenium.webdriver.remote.webelement.WebElement (session=\"0e02be0d95f1e138ff230a46dc1ed6a7\", element=\"f.94B09AFCDDBDC99047C8A2BB7CB279FB.d.6D07185AD7079D7033D7A631EC429FFB.e.9964\")>,\n",
       " <selenium.webdriver.remote.webelement.WebElement (session=\"0e02be0d95f1e138ff230a46dc1ed6a7\", element=\"f.94B09AFCDDBDC99047C8A2BB7CB279FB.d.6D07185AD7079D7033D7A631EC429FFB.e.9965\")>,\n",
       " <selenium.webdriver.remote.webelement.WebElement (session=\"0e02be0d95f1e138ff230a46dc1ed6a7\", element=\"f.94B09AFCDDBDC99047C8A2BB7CB279FB.d.6D07185AD7079D7033D7A631EC429FFB.e.9966\")>,\n",
       " <selenium.webdriver.remote.webelement.WebElement (session=\"0e02be0d95f1e138ff230a46dc1ed6a7\", element=\"f.94B09AFCDDBDC99047C8A2BB7CB279FB.d.6D07185AD7079D7033D7A631EC429FFB.e.9967\")>,\n",
       " <selenium.webdriver.remote.webelement.WebElement (session=\"0e02be0d95f1e138ff230a46dc1ed6a7\", element=\"f.94B09AFCDDBDC99047C8A2BB7CB279FB.d.6D07185AD7079D7033D7A631EC429FFB.e.9968\")>,\n",
       " <selenium.webdriver.remote.webelement.WebElement (session=\"0e02be0d95f1e138ff230a46dc1ed6a7\", element=\"f.94B09AFCDDBDC99047C8A2BB7CB279FB.d.6D07185AD7079D7033D7A631EC429FFB.e.9969\")>,\n",
       " <selenium.webdriver.remote.webelement.WebElement (session=\"0e02be0d95f1e138ff230a46dc1ed6a7\", element=\"f.94B09AFCDDBDC99047C8A2BB7CB279FB.d.6D07185AD7079D7033D7A631EC429FFB.e.9970\")>,\n",
       " <selenium.webdriver.remote.webelement.WebElement (session=\"0e02be0d95f1e138ff230a46dc1ed6a7\", element=\"f.94B09AFCDDBDC99047C8A2BB7CB279FB.d.6D07185AD7079D7033D7A631EC429FFB.e.9971\")>,\n",
       " <selenium.webdriver.remote.webelement.WebElement (session=\"0e02be0d95f1e138ff230a46dc1ed6a7\", element=\"f.94B09AFCDDBDC99047C8A2BB7CB279FB.d.6D07185AD7079D7033D7A631EC429FFB.e.9972\")>,\n",
       " <selenium.webdriver.remote.webelement.WebElement (session=\"0e02be0d95f1e138ff230a46dc1ed6a7\", element=\"f.94B09AFCDDBDC99047C8A2BB7CB279FB.d.6D07185AD7079D7033D7A631EC429FFB.e.9973\")>,\n",
       " <selenium.webdriver.remote.webelement.WebElement (session=\"0e02be0d95f1e138ff230a46dc1ed6a7\", element=\"f.94B09AFCDDBDC99047C8A2BB7CB279FB.d.6D07185AD7079D7033D7A631EC429FFB.e.9974\")>,\n",
       " <selenium.webdriver.remote.webelement.WebElement (session=\"0e02be0d95f1e138ff230a46dc1ed6a7\", element=\"f.94B09AFCDDBDC99047C8A2BB7CB279FB.d.6D07185AD7079D7033D7A631EC429FFB.e.9975\")>,\n",
       " <selenium.webdriver.remote.webelement.WebElement (session=\"0e02be0d95f1e138ff230a46dc1ed6a7\", element=\"f.94B09AFCDDBDC99047C8A2BB7CB279FB.d.6D07185AD7079D7033D7A631EC429FFB.e.9976\")>,\n",
       " <selenium.webdriver.remote.webelement.WebElement (session=\"0e02be0d95f1e138ff230a46dc1ed6a7\", element=\"f.94B09AFCDDBDC99047C8A2BB7CB279FB.d.6D07185AD7079D7033D7A631EC429FFB.e.9977\")>,\n",
       " <selenium.webdriver.remote.webelement.WebElement (session=\"0e02be0d95f1e138ff230a46dc1ed6a7\", element=\"f.94B09AFCDDBDC99047C8A2BB7CB279FB.d.6D07185AD7079D7033D7A631EC429FFB.e.9978\")>,\n",
       " <selenium.webdriver.remote.webelement.WebElement (session=\"0e02be0d95f1e138ff230a46dc1ed6a7\", element=\"f.94B09AFCDDBDC99047C8A2BB7CB279FB.d.6D07185AD7079D7033D7A631EC429FFB.e.9979\")>,\n",
       " <selenium.webdriver.remote.webelement.WebElement (session=\"0e02be0d95f1e138ff230a46dc1ed6a7\", element=\"f.94B09AFCDDBDC99047C8A2BB7CB279FB.d.6D07185AD7079D7033D7A631EC429FFB.e.9980\")>,\n",
       " <selenium.webdriver.remote.webelement.WebElement (session=\"0e02be0d95f1e138ff230a46dc1ed6a7\", element=\"f.94B09AFCDDBDC99047C8A2BB7CB279FB.d.6D07185AD7079D7033D7A631EC429FFB.e.9981\")>,\n",
       " <selenium.webdriver.remote.webelement.WebElement (session=\"0e02be0d95f1e138ff230a46dc1ed6a7\", element=\"f.94B09AFCDDBDC99047C8A2BB7CB279FB.d.6D07185AD7079D7033D7A631EC429FFB.e.9982\")>,\n",
       " <selenium.webdriver.remote.webelement.WebElement (session=\"0e02be0d95f1e138ff230a46dc1ed6a7\", element=\"f.94B09AFCDDBDC99047C8A2BB7CB279FB.d.6D07185AD7079D7033D7A631EC429FFB.e.9983\")>,\n",
       " <selenium.webdriver.remote.webelement.WebElement (session=\"0e02be0d95f1e138ff230a46dc1ed6a7\", element=\"f.94B09AFCDDBDC99047C8A2BB7CB279FB.d.6D07185AD7079D7033D7A631EC429FFB.e.9984\")>,\n",
       " <selenium.webdriver.remote.webelement.WebElement (session=\"0e02be0d95f1e138ff230a46dc1ed6a7\", element=\"f.94B09AFCDDBDC99047C8A2BB7CB279FB.d.6D07185AD7079D7033D7A631EC429FFB.e.9985\")>,\n",
       " <selenium.webdriver.remote.webelement.WebElement (session=\"0e02be0d95f1e138ff230a46dc1ed6a7\", element=\"f.94B09AFCDDBDC99047C8A2BB7CB279FB.d.6D07185AD7079D7033D7A631EC429FFB.e.9986\")>,\n",
       " <selenium.webdriver.remote.webelement.WebElement (session=\"0e02be0d95f1e138ff230a46dc1ed6a7\", element=\"f.94B09AFCDDBDC99047C8A2BB7CB279FB.d.6D07185AD7079D7033D7A631EC429FFB.e.9987\")>,\n",
       " <selenium.webdriver.remote.webelement.WebElement (session=\"0e02be0d95f1e138ff230a46dc1ed6a7\", element=\"f.94B09AFCDDBDC99047C8A2BB7CB279FB.d.6D07185AD7079D7033D7A631EC429FFB.e.9988\")>,\n",
       " <selenium.webdriver.remote.webelement.WebElement (session=\"0e02be0d95f1e138ff230a46dc1ed6a7\", element=\"f.94B09AFCDDBDC99047C8A2BB7CB279FB.d.6D07185AD7079D7033D7A631EC429FFB.e.9989\")>,\n",
       " <selenium.webdriver.remote.webelement.WebElement (session=\"0e02be0d95f1e138ff230a46dc1ed6a7\", element=\"f.94B09AFCDDBDC99047C8A2BB7CB279FB.d.6D07185AD7079D7033D7A631EC429FFB.e.9990\")>,\n",
       " <selenium.webdriver.remote.webelement.WebElement (session=\"0e02be0d95f1e138ff230a46dc1ed6a7\", element=\"f.94B09AFCDDBDC99047C8A2BB7CB279FB.d.6D07185AD7079D7033D7A631EC429FFB.e.9991\")>,\n",
       " <selenium.webdriver.remote.webelement.WebElement (session=\"0e02be0d95f1e138ff230a46dc1ed6a7\", element=\"f.94B09AFCDDBDC99047C8A2BB7CB279FB.d.6D07185AD7079D7033D7A631EC429FFB.e.9992\")>,\n",
       " <selenium.webdriver.remote.webelement.WebElement (session=\"0e02be0d95f1e138ff230a46dc1ed6a7\", element=\"f.94B09AFCDDBDC99047C8A2BB7CB279FB.d.6D07185AD7079D7033D7A631EC429FFB.e.9993\")>,\n",
       " <selenium.webdriver.remote.webelement.WebElement (session=\"0e02be0d95f1e138ff230a46dc1ed6a7\", element=\"f.94B09AFCDDBDC99047C8A2BB7CB279FB.d.6D07185AD7079D7033D7A631EC429FFB.e.9994\")>,\n",
       " <selenium.webdriver.remote.webelement.WebElement (session=\"0e02be0d95f1e138ff230a46dc1ed6a7\", element=\"f.94B09AFCDDBDC99047C8A2BB7CB279FB.d.6D07185AD7079D7033D7A631EC429FFB.e.9995\")>,\n",
       " <selenium.webdriver.remote.webelement.WebElement (session=\"0e02be0d95f1e138ff230a46dc1ed6a7\", element=\"f.94B09AFCDDBDC99047C8A2BB7CB279FB.d.6D07185AD7079D7033D7A631EC429FFB.e.9996\")>,\n",
       " <selenium.webdriver.remote.webelement.WebElement (session=\"0e02be0d95f1e138ff230a46dc1ed6a7\", element=\"f.94B09AFCDDBDC99047C8A2BB7CB279FB.d.6D07185AD7079D7033D7A631EC429FFB.e.9997\")>,\n",
       " <selenium.webdriver.remote.webelement.WebElement (session=\"0e02be0d95f1e138ff230a46dc1ed6a7\", element=\"f.94B09AFCDDBDC99047C8A2BB7CB279FB.d.6D07185AD7079D7033D7A631EC429FFB.e.9998\")>,\n",
       " <selenium.webdriver.remote.webelement.WebElement (session=\"0e02be0d95f1e138ff230a46dc1ed6a7\", element=\"f.94B09AFCDDBDC99047C8A2BB7CB279FB.d.6D07185AD7079D7033D7A631EC429FFB.e.9999\")>,\n",
       " <selenium.webdriver.remote.webelement.WebElement (session=\"0e02be0d95f1e138ff230a46dc1ed6a7\", element=\"f.94B09AFCDDBDC99047C8A2BB7CB279FB.d.6D07185AD7079D7033D7A631EC429FFB.e.10000\")>,\n",
       " <selenium.webdriver.remote.webelement.WebElement (session=\"0e02be0d95f1e138ff230a46dc1ed6a7\", element=\"f.94B09AFCDDBDC99047C8A2BB7CB279FB.d.6D07185AD7079D7033D7A631EC429FFB.e.10001\")>,\n",
       " <selenium.webdriver.remote.webelement.WebElement (session=\"0e02be0d95f1e138ff230a46dc1ed6a7\", element=\"f.94B09AFCDDBDC99047C8A2BB7CB279FB.d.6D07185AD7079D7033D7A631EC429FFB.e.10002\")>,\n",
       " <selenium.webdriver.remote.webelement.WebElement (session=\"0e02be0d95f1e138ff230a46dc1ed6a7\", element=\"f.94B09AFCDDBDC99047C8A2BB7CB279FB.d.6D07185AD7079D7033D7A631EC429FFB.e.10003\")>,\n",
       " <selenium.webdriver.remote.webelement.WebElement (session=\"0e02be0d95f1e138ff230a46dc1ed6a7\", element=\"f.94B09AFCDDBDC99047C8A2BB7CB279FB.d.6D07185AD7079D7033D7A631EC429FFB.e.10004\")>,\n",
       " <selenium.webdriver.remote.webelement.WebElement (session=\"0e02be0d95f1e138ff230a46dc1ed6a7\", element=\"f.94B09AFCDDBDC99047C8A2BB7CB279FB.d.6D07185AD7079D7033D7A631EC429FFB.e.10005\")>,\n",
       " <selenium.webdriver.remote.webelement.WebElement (session=\"0e02be0d95f1e138ff230a46dc1ed6a7\", element=\"f.94B09AFCDDBDC99047C8A2BB7CB279FB.d.6D07185AD7079D7033D7A631EC429FFB.e.10006\")>,\n",
       " <selenium.webdriver.remote.webelement.WebElement (session=\"0e02be0d95f1e138ff230a46dc1ed6a7\", element=\"f.94B09AFCDDBDC99047C8A2BB7CB279FB.d.6D07185AD7079D7033D7A631EC429FFB.e.10007\")>,\n",
       " <selenium.webdriver.remote.webelement.WebElement (session=\"0e02be0d95f1e138ff230a46dc1ed6a7\", element=\"f.94B09AFCDDBDC99047C8A2BB7CB279FB.d.6D07185AD7079D7033D7A631EC429FFB.e.10008\")>,\n",
       " <selenium.webdriver.remote.webelement.WebElement (session=\"0e02be0d95f1e138ff230a46dc1ed6a7\", element=\"f.94B09AFCDDBDC99047C8A2BB7CB279FB.d.6D07185AD7079D7033D7A631EC429FFB.e.10009\")>,\n",
       " <selenium.webdriver.remote.webelement.WebElement (session=\"0e02be0d95f1e138ff230a46dc1ed6a7\", element=\"f.94B09AFCDDBDC99047C8A2BB7CB279FB.d.6D07185AD7079D7033D7A631EC429FFB.e.10010\")>,\n",
       " <selenium.webdriver.remote.webelement.WebElement (session=\"0e02be0d95f1e138ff230a46dc1ed6a7\", element=\"f.94B09AFCDDBDC99047C8A2BB7CB279FB.d.6D07185AD7079D7033D7A631EC429FFB.e.10011\")>,\n",
       " <selenium.webdriver.remote.webelement.WebElement (session=\"0e02be0d95f1e138ff230a46dc1ed6a7\", element=\"f.94B09AFCDDBDC99047C8A2BB7CB279FB.d.6D07185AD7079D7033D7A631EC429FFB.e.10012\")>,\n",
       " <selenium.webdriver.remote.webelement.WebElement (session=\"0e02be0d95f1e138ff230a46dc1ed6a7\", element=\"f.94B09AFCDDBDC99047C8A2BB7CB279FB.d.6D07185AD7079D7033D7A631EC429FFB.e.10013\")>,\n",
       " <selenium.webdriver.remote.webelement.WebElement (session=\"0e02be0d95f1e138ff230a46dc1ed6a7\", element=\"f.94B09AFCDDBDC99047C8A2BB7CB279FB.d.6D07185AD7079D7033D7A631EC429FFB.e.10014\")>,\n",
       " <selenium.webdriver.remote.webelement.WebElement (session=\"0e02be0d95f1e138ff230a46dc1ed6a7\", element=\"f.94B09AFCDDBDC99047C8A2BB7CB279FB.d.6D07185AD7079D7033D7A631EC429FFB.e.10015\")>,\n",
       " <selenium.webdriver.remote.webelement.WebElement (session=\"0e02be0d95f1e138ff230a46dc1ed6a7\", element=\"f.94B09AFCDDBDC99047C8A2BB7CB279FB.d.6D07185AD7079D7033D7A631EC429FFB.e.10016\")>,\n",
       " <selenium.webdriver.remote.webelement.WebElement (session=\"0e02be0d95f1e138ff230a46dc1ed6a7\", element=\"f.94B09AFCDDBDC99047C8A2BB7CB279FB.d.6D07185AD7079D7033D7A631EC429FFB.e.10017\")>,\n",
       " <selenium.webdriver.remote.webelement.WebElement (session=\"0e02be0d95f1e138ff230a46dc1ed6a7\", element=\"f.94B09AFCDDBDC99047C8A2BB7CB279FB.d.6D07185AD7079D7033D7A631EC429FFB.e.10018\")>,\n",
       " <selenium.webdriver.remote.webelement.WebElement (session=\"0e02be0d95f1e138ff230a46dc1ed6a7\", element=\"f.94B09AFCDDBDC99047C8A2BB7CB279FB.d.6D07185AD7079D7033D7A631EC429FFB.e.10019\")>,\n",
       " <selenium.webdriver.remote.webelement.WebElement (session=\"0e02be0d95f1e138ff230a46dc1ed6a7\", element=\"f.94B09AFCDDBDC99047C8A2BB7CB279FB.d.6D07185AD7079D7033D7A631EC429FFB.e.10020\")>,\n",
       " <selenium.webdriver.remote.webelement.WebElement (session=\"0e02be0d95f1e138ff230a46dc1ed6a7\", element=\"f.94B09AFCDDBDC99047C8A2BB7CB279FB.d.6D07185AD7079D7033D7A631EC429FFB.e.10021\")>,\n",
       " <selenium.webdriver.remote.webelement.WebElement (session=\"0e02be0d95f1e138ff230a46dc1ed6a7\", element=\"f.94B09AFCDDBDC99047C8A2BB7CB279FB.d.6D07185AD7079D7033D7A631EC429FFB.e.10022\")>,\n",
       " <selenium.webdriver.remote.webelement.WebElement (session=\"0e02be0d95f1e138ff230a46dc1ed6a7\", element=\"f.94B09AFCDDBDC99047C8A2BB7CB279FB.d.6D07185AD7079D7033D7A631EC429FFB.e.10023\")>,\n",
       " <selenium.webdriver.remote.webelement.WebElement (session=\"0e02be0d95f1e138ff230a46dc1ed6a7\", element=\"f.94B09AFCDDBDC99047C8A2BB7CB279FB.d.6D07185AD7079D7033D7A631EC429FFB.e.10024\")>,\n",
       " <selenium.webdriver.remote.webelement.WebElement (session=\"0e02be0d95f1e138ff230a46dc1ed6a7\", element=\"f.94B09AFCDDBDC99047C8A2BB7CB279FB.d.6D07185AD7079D7033D7A631EC429FFB.e.10025\")>,\n",
       " <selenium.webdriver.remote.webelement.WebElement (session=\"0e02be0d95f1e138ff230a46dc1ed6a7\", element=\"f.94B09AFCDDBDC99047C8A2BB7CB279FB.d.6D07185AD7079D7033D7A631EC429FFB.e.10026\")>,\n",
       " <selenium.webdriver.remote.webelement.WebElement (session=\"0e02be0d95f1e138ff230a46dc1ed6a7\", element=\"f.94B09AFCDDBDC99047C8A2BB7CB279FB.d.6D07185AD7079D7033D7A631EC429FFB.e.10027\")>,\n",
       " <selenium.webdriver.remote.webelement.WebElement (session=\"0e02be0d95f1e138ff230a46dc1ed6a7\", element=\"f.94B09AFCDDBDC99047C8A2BB7CB279FB.d.6D07185AD7079D7033D7A631EC429FFB.e.10028\")>,\n",
       " <selenium.webdriver.remote.webelement.WebElement (session=\"0e02be0d95f1e138ff230a46dc1ed6a7\", element=\"f.94B09AFCDDBDC99047C8A2BB7CB279FB.d.6D07185AD7079D7033D7A631EC429FFB.e.10029\")>,\n",
       " <selenium.webdriver.remote.webelement.WebElement (session=\"0e02be0d95f1e138ff230a46dc1ed6a7\", element=\"f.94B09AFCDDBDC99047C8A2BB7CB279FB.d.6D07185AD7079D7033D7A631EC429FFB.e.10030\")>,\n",
       " <selenium.webdriver.remote.webelement.WebElement (session=\"0e02be0d95f1e138ff230a46dc1ed6a7\", element=\"f.94B09AFCDDBDC99047C8A2BB7CB279FB.d.6D07185AD7079D7033D7A631EC429FFB.e.10031\")>,\n",
       " <selenium.webdriver.remote.webelement.WebElement (session=\"0e02be0d95f1e138ff230a46dc1ed6a7\", element=\"f.94B09AFCDDBDC99047C8A2BB7CB279FB.d.6D07185AD7079D7033D7A631EC429FFB.e.10032\")>,\n",
       " <selenium.webdriver.remote.webelement.WebElement (session=\"0e02be0d95f1e138ff230a46dc1ed6a7\", element=\"f.94B09AFCDDBDC99047C8A2BB7CB279FB.d.6D07185AD7079D7033D7A631EC429FFB.e.10033\")>,\n",
       " <selenium.webdriver.remote.webelement.WebElement (session=\"0e02be0d95f1e138ff230a46dc1ed6a7\", element=\"f.94B09AFCDDBDC99047C8A2BB7CB279FB.d.6D07185AD7079D7033D7A631EC429FFB.e.10034\")>,\n",
       " <selenium.webdriver.remote.webelement.WebElement (session=\"0e02be0d95f1e138ff230a46dc1ed6a7\", element=\"f.94B09AFCDDBDC99047C8A2BB7CB279FB.d.6D07185AD7079D7033D7A631EC429FFB.e.10035\")>,\n",
       " <selenium.webdriver.remote.webelement.WebElement (session=\"0e02be0d95f1e138ff230a46dc1ed6a7\", element=\"f.94B09AFCDDBDC99047C8A2BB7CB279FB.d.6D07185AD7079D7033D7A631EC429FFB.e.10036\")>,\n",
       " <selenium.webdriver.remote.webelement.WebElement (session=\"0e02be0d95f1e138ff230a46dc1ed6a7\", element=\"f.94B09AFCDDBDC99047C8A2BB7CB279FB.d.6D07185AD7079D7033D7A631EC429FFB.e.10037\")>,\n",
       " <selenium.webdriver.remote.webelement.WebElement (session=\"0e02be0d95f1e138ff230a46dc1ed6a7\", element=\"f.94B09AFCDDBDC99047C8A2BB7CB279FB.d.6D07185AD7079D7033D7A631EC429FFB.e.10038\")>,\n",
       " <selenium.webdriver.remote.webelement.WebElement (session=\"0e02be0d95f1e138ff230a46dc1ed6a7\", element=\"f.94B09AFCDDBDC99047C8A2BB7CB279FB.d.6D07185AD7079D7033D7A631EC429FFB.e.10039\")>,\n",
       " <selenium.webdriver.remote.webelement.WebElement (session=\"0e02be0d95f1e138ff230a46dc1ed6a7\", element=\"f.94B09AFCDDBDC99047C8A2BB7CB279FB.d.6D07185AD7079D7033D7A631EC429FFB.e.10040\")>,\n",
       " <selenium.webdriver.remote.webelement.WebElement (session=\"0e02be0d95f1e138ff230a46dc1ed6a7\", element=\"f.94B09AFCDDBDC99047C8A2BB7CB279FB.d.6D07185AD7079D7033D7A631EC429FFB.e.10041\")>,\n",
       " <selenium.webdriver.remote.webelement.WebElement (session=\"0e02be0d95f1e138ff230a46dc1ed6a7\", element=\"f.94B09AFCDDBDC99047C8A2BB7CB279FB.d.6D07185AD7079D7033D7A631EC429FFB.e.10042\")>,\n",
       " <selenium.webdriver.remote.webelement.WebElement (session=\"0e02be0d95f1e138ff230a46dc1ed6a7\", element=\"f.94B09AFCDDBDC99047C8A2BB7CB279FB.d.6D07185AD7079D7033D7A631EC429FFB.e.10043\")>,\n",
       " <selenium.webdriver.remote.webelement.WebElement (session=\"0e02be0d95f1e138ff230a46dc1ed6a7\", element=\"f.94B09AFCDDBDC99047C8A2BB7CB279FB.d.6D07185AD7079D7033D7A631EC429FFB.e.10044\")>,\n",
       " <selenium.webdriver.remote.webelement.WebElement (session=\"0e02be0d95f1e138ff230a46dc1ed6a7\", element=\"f.94B09AFCDDBDC99047C8A2BB7CB279FB.d.6D07185AD7079D7033D7A631EC429FFB.e.10045\")>,\n",
       " <selenium.webdriver.remote.webelement.WebElement (session=\"0e02be0d95f1e138ff230a46dc1ed6a7\", element=\"f.94B09AFCDDBDC99047C8A2BB7CB279FB.d.6D07185AD7079D7033D7A631EC429FFB.e.10046\")>,\n",
       " <selenium.webdriver.remote.webelement.WebElement (session=\"0e02be0d95f1e138ff230a46dc1ed6a7\", element=\"f.94B09AFCDDBDC99047C8A2BB7CB279FB.d.6D07185AD7079D7033D7A631EC429FFB.e.10047\")>,\n",
       " <selenium.webdriver.remote.webelement.WebElement (session=\"0e02be0d95f1e138ff230a46dc1ed6a7\", element=\"f.94B09AFCDDBDC99047C8A2BB7CB279FB.d.6D07185AD7079D7033D7A631EC429FFB.e.10048\")>,\n",
       " <selenium.webdriver.remote.webelement.WebElement (session=\"0e02be0d95f1e138ff230a46dc1ed6a7\", element=\"f.94B09AFCDDBDC99047C8A2BB7CB279FB.d.6D07185AD7079D7033D7A631EC429FFB.e.10049\")>,\n",
       " <selenium.webdriver.remote.webelement.WebElement (session=\"0e02be0d95f1e138ff230a46dc1ed6a7\", element=\"f.94B09AFCDDBDC99047C8A2BB7CB279FB.d.6D07185AD7079D7033D7A631EC429FFB.e.10050\")>,\n",
       " <selenium.webdriver.remote.webelement.WebElement (session=\"0e02be0d95f1e138ff230a46dc1ed6a7\", element=\"f.94B09AFCDDBDC99047C8A2BB7CB279FB.d.6D07185AD7079D7033D7A631EC429FFB.e.10051\")>,\n",
       " <selenium.webdriver.remote.webelement.WebElement (session=\"0e02be0d95f1e138ff230a46dc1ed6a7\", element=\"f.94B09AFCDDBDC99047C8A2BB7CB279FB.d.6D07185AD7079D7033D7A631EC429FFB.e.10052\")>,\n",
       " <selenium.webdriver.remote.webelement.WebElement (session=\"0e02be0d95f1e138ff230a46dc1ed6a7\", element=\"f.94B09AFCDDBDC99047C8A2BB7CB279FB.d.6D07185AD7079D7033D7A631EC429FFB.e.10053\")>,\n",
       " <selenium.webdriver.remote.webelement.WebElement (session=\"0e02be0d95f1e138ff230a46dc1ed6a7\", element=\"f.94B09AFCDDBDC99047C8A2BB7CB279FB.d.6D07185AD7079D7033D7A631EC429FFB.e.10054\")>,\n",
       " <selenium.webdriver.remote.webelement.WebElement (session=\"0e02be0d95f1e138ff230a46dc1ed6a7\", element=\"f.94B09AFCDDBDC99047C8A2BB7CB279FB.d.6D07185AD7079D7033D7A631EC429FFB.e.10055\")>,\n",
       " <selenium.webdriver.remote.webelement.WebElement (session=\"0e02be0d95f1e138ff230a46dc1ed6a7\", element=\"f.94B09AFCDDBDC99047C8A2BB7CB279FB.d.6D07185AD7079D7033D7A631EC429FFB.e.10056\")>,\n",
       " <selenium.webdriver.remote.webelement.WebElement (session=\"0e02be0d95f1e138ff230a46dc1ed6a7\", element=\"f.94B09AFCDDBDC99047C8A2BB7CB279FB.d.6D07185AD7079D7033D7A631EC429FFB.e.10057\")>,\n",
       " <selenium.webdriver.remote.webelement.WebElement (session=\"0e02be0d95f1e138ff230a46dc1ed6a7\", element=\"f.94B09AFCDDBDC99047C8A2BB7CB279FB.d.6D07185AD7079D7033D7A631EC429FFB.e.10058\")>,\n",
       " <selenium.webdriver.remote.webelement.WebElement (session=\"0e02be0d95f1e138ff230a46dc1ed6a7\", element=\"f.94B09AFCDDBDC99047C8A2BB7CB279FB.d.6D07185AD7079D7033D7A631EC429FFB.e.10059\")>,\n",
       " <selenium.webdriver.remote.webelement.WebElement (session=\"0e02be0d95f1e138ff230a46dc1ed6a7\", element=\"f.94B09AFCDDBDC99047C8A2BB7CB279FB.d.6D07185AD7079D7033D7A631EC429FFB.e.10060\")>,\n",
       " <selenium.webdriver.remote.webelement.WebElement (session=\"0e02be0d95f1e138ff230a46dc1ed6a7\", element=\"f.94B09AFCDDBDC99047C8A2BB7CB279FB.d.6D07185AD7079D7033D7A631EC429FFB.e.10061\")>,\n",
       " <selenium.webdriver.remote.webelement.WebElement (session=\"0e02be0d95f1e138ff230a46dc1ed6a7\", element=\"f.94B09AFCDDBDC99047C8A2BB7CB279FB.d.6D07185AD7079D7033D7A631EC429FFB.e.10062\")>,\n",
       " <selenium.webdriver.remote.webelement.WebElement (session=\"0e02be0d95f1e138ff230a46dc1ed6a7\", element=\"f.94B09AFCDDBDC99047C8A2BB7CB279FB.d.6D07185AD7079D7033D7A631EC429FFB.e.10063\")>,\n",
       " <selenium.webdriver.remote.webelement.WebElement (session=\"0e02be0d95f1e138ff230a46dc1ed6a7\", element=\"f.94B09AFCDDBDC99047C8A2BB7CB279FB.d.6D07185AD7079D7033D7A631EC429FFB.e.10064\")>]"
      ]
     },
     "execution_count": 159,
     "metadata": {},
     "output_type": "execute_result"
    }
   ],
   "source": [
    "scrape = driver.find_elements(By.CLASS_NAME, \"sc-e2db8066-1\")\n",
    "scrape"
   ]
  },
  {
   "cell_type": "code",
   "execution_count": 122,
   "metadata": {},
   "outputs": [],
   "source": [
    "df = pd.DataFrame(movie)"
   ]
  },
  {
   "cell_type": "code",
   "execution_count": 123,
   "metadata": {},
   "outputs": [
    {
     "data": {
      "text/html": [
       "<div>\n",
       "<style scoped>\n",
       "    .dataframe tbody tr th:only-of-type {\n",
       "        vertical-align: middle;\n",
       "    }\n",
       "\n",
       "    .dataframe tbody tr th {\n",
       "        vertical-align: top;\n",
       "    }\n",
       "\n",
       "    .dataframe thead th {\n",
       "        text-align: right;\n",
       "    }\n",
       "</style>\n",
       "<table border=\"1\" class=\"dataframe\">\n",
       "  <thead>\n",
       "    <tr style=\"text-align: right;\">\n",
       "      <th></th>\n",
       "      <th>Movie_name</th>\n",
       "      <th>Rating</th>\n",
       "      <th>Duration</th>\n",
       "      <th>Release_year</th>\n",
       "      <th>Genre</th>\n",
       "    </tr>\n",
       "  </thead>\n",
       "  <tbody>\n",
       "    <tr>\n",
       "      <th>0</th>\n",
       "      <td>1. American Psycho</td>\n",
       "      <td>7.6</td>\n",
       "      <td>1h 42m</td>\n",
       "      <td>2000</td>\n",
       "      <td>drama</td>\n",
       "    </tr>\n",
       "    <tr>\n",
       "      <th>1</th>\n",
       "      <td>2. Battle Royale</td>\n",
       "      <td>7.5</td>\n",
       "      <td>1h 54m</td>\n",
       "      <td>2000</td>\n",
       "      <td>drama</td>\n",
       "    </tr>\n",
       "    <tr>\n",
       "      <th>2</th>\n",
       "      <td>3. Crouching Tiger, Hidden Dragon</td>\n",
       "      <td>7.9</td>\n",
       "      <td>2h</td>\n",
       "      <td>2000</td>\n",
       "      <td>drama</td>\n",
       "    </tr>\n",
       "    <tr>\n",
       "      <th>3</th>\n",
       "      <td>5. Frequency</td>\n",
       "      <td>7.4</td>\n",
       "      <td>1h 58m</td>\n",
       "      <td>2000</td>\n",
       "      <td>drama</td>\n",
       "    </tr>\n",
       "    <tr>\n",
       "      <th>4</th>\n",
       "      <td>6. Ginger Snaps</td>\n",
       "      <td>6.8</td>\n",
       "      <td>1h 48m</td>\n",
       "      <td>2000</td>\n",
       "      <td>drama</td>\n",
       "    </tr>\n",
       "    <tr>\n",
       "      <th>...</th>\n",
       "      <td>...</td>\n",
       "      <td>...</td>\n",
       "      <td>...</td>\n",
       "      <td>...</td>\n",
       "      <td>...</td>\n",
       "    </tr>\n",
       "    <tr>\n",
       "      <th>2002</th>\n",
       "      <td>832. Extraction II</td>\n",
       "      <td>7.0</td>\n",
       "      <td>2h 2m</td>\n",
       "      <td>2023</td>\n",
       "      <td>crime</td>\n",
       "    </tr>\n",
       "    <tr>\n",
       "      <th>2003</th>\n",
       "      <td>843. House of Sand and Fog</td>\n",
       "      <td>7.5</td>\n",
       "      <td>2h 6m</td>\n",
       "      <td>2003</td>\n",
       "      <td>crime</td>\n",
       "    </tr>\n",
       "    <tr>\n",
       "      <th>2004</th>\n",
       "      <td>847. Hit Man</td>\n",
       "      <td>6.8</td>\n",
       "      <td>1h 55m</td>\n",
       "      <td>2023</td>\n",
       "      <td>crime</td>\n",
       "    </tr>\n",
       "    <tr>\n",
       "      <th>2005</th>\n",
       "      <td>848. Shakhahaari</td>\n",
       "      <td>7.6</td>\n",
       "      <td>2h 25m</td>\n",
       "      <td>2024</td>\n",
       "      <td>crime</td>\n",
       "    </tr>\n",
       "    <tr>\n",
       "      <th>2006</th>\n",
       "      <td>859. Kill</td>\n",
       "      <td>7.5</td>\n",
       "      <td>1h 45m</td>\n",
       "      <td>2023</td>\n",
       "      <td>crime</td>\n",
       "    </tr>\n",
       "  </tbody>\n",
       "</table>\n",
       "<p>2007 rows × 5 columns</p>\n",
       "</div>"
      ],
      "text/plain": [
       "                             Movie_name Rating Duration Release_year  Genre\n",
       "0                    1. American Psycho    7.6   1h 42m         2000  drama\n",
       "1                      2. Battle Royale    7.5   1h 54m         2000  drama\n",
       "2     3. Crouching Tiger, Hidden Dragon    7.9       2h         2000  drama\n",
       "3                          5. Frequency    7.4   1h 58m         2000  drama\n",
       "4                       6. Ginger Snaps    6.8   1h 48m         2000  drama\n",
       "...                                 ...    ...      ...          ...    ...\n",
       "2002                 832. Extraction II    7.0    2h 2m         2023  crime\n",
       "2003         843. House of Sand and Fog    7.5    2h 6m         2003  crime\n",
       "2004                       847. Hit Man    6.8   1h 55m         2023  crime\n",
       "2005                   848. Shakhahaari    7.6   2h 25m         2024  crime\n",
       "2006                          859. Kill    7.5   1h 45m         2023  crime\n",
       "\n",
       "[2007 rows x 5 columns]"
      ]
     },
     "execution_count": 123,
     "metadata": {},
     "output_type": "execute_result"
    }
   ],
   "source": [
    "df"
   ]
  },
  {
   "cell_type": "code",
   "execution_count": 124,
   "metadata": {},
   "outputs": [],
   "source": [
    "df.to_csv(\"Movies.csv\")"
   ]
  },
  {
   "cell_type": "code",
   "execution_count": 139,
   "metadata": {},
   "outputs": [
    {
     "data": {
      "text/plain": [
       "array(['7.6', '7.5', '7.9', '7.4', '6.8', '8.5', '7.2', '7.0', '6.9',\n",
       "       '7.3', '8.0', '7.8', '8.1', '6.0', '6.4', '8.9', '6.7', '8.3',\n",
       "       '6.6', '8.8', '7.1', '8.2', '7.7', '6.3', '6.5', '9.0', '6.2',\n",
       "       '5.3', '8.4', '6.1', '5.8', '5.5', '4.9', '5.7', '5.9', '5.4',\n",
       "       '5.2', '5.6', '5.1', '4.8', '5.0', '8.7'], dtype=object)"
      ]
     },
     "execution_count": 139,
     "metadata": {},
     "output_type": "execute_result"
    }
   ],
   "source": [
    "df['Rating'].unique()"
   ]
  },
  {
   "cell_type": "code",
   "execution_count": 19,
   "metadata": {},
   "outputs": [
    {
     "data": {
      "text/plain": [
       "2007"
      ]
     },
     "execution_count": 19,
     "metadata": {},
     "output_type": "execute_result"
    }
   ],
   "source": [
    "len(movie2)"
   ]
  },
  {
   "cell_type": "code",
   "execution_count": 20,
   "metadata": {},
   "outputs": [],
   "source": [
    "import pandas as pd"
   ]
  },
  {
   "cell_type": "code",
   "execution_count": 105,
   "metadata": {},
   "outputs": [
    {
     "data": {
      "text/html": [
       "<div>\n",
       "<style scoped>\n",
       "    .dataframe tbody tr th:only-of-type {\n",
       "        vertical-align: middle;\n",
       "    }\n",
       "\n",
       "    .dataframe tbody tr th {\n",
       "        vertical-align: top;\n",
       "    }\n",
       "\n",
       "    .dataframe thead th {\n",
       "        text-align: right;\n",
       "    }\n",
       "</style>\n",
       "<table border=\"1\" class=\"dataframe\">\n",
       "  <thead>\n",
       "    <tr style=\"text-align: right;\">\n",
       "      <th></th>\n",
       "      <th>Movie_name</th>\n",
       "      <th>Rating</th>\n",
       "      <th>Duration</th>\n",
       "      <th>Release_year</th>\n",
       "      <th>Genre</th>\n",
       "      <th>Director</th>\n",
       "      <th>Meta-score</th>\n",
       "    </tr>\n",
       "  </thead>\n",
       "  <tbody>\n",
       "    <tr>\n",
       "      <th>0</th>\n",
       "      <td>1. American Psycho</td>\n",
       "      <td>7.6</td>\n",
       "      <td>1h 42m</td>\n",
       "      <td>2000</td>\n",
       "      <td>drama</td>\n",
       "      <td>Mary Harron</td>\n",
       "      <td>64\\nMetascore</td>\n",
       "    </tr>\n",
       "    <tr>\n",
       "      <th>1</th>\n",
       "      <td>2. Battle Royale</td>\n",
       "      <td>7.5</td>\n",
       "      <td>1h 54m</td>\n",
       "      <td>2000</td>\n",
       "      <td>drama</td>\n",
       "      <td>Kinji Fukasaku</td>\n",
       "      <td>81\\nMetascore</td>\n",
       "    </tr>\n",
       "    <tr>\n",
       "      <th>2</th>\n",
       "      <td>3. Crouching Tiger, Hidden Dragon</td>\n",
       "      <td>7.9</td>\n",
       "      <td>2h</td>\n",
       "      <td>2000</td>\n",
       "      <td>drama</td>\n",
       "      <td>Ang Lee</td>\n",
       "      <td>94\\nMetascore</td>\n",
       "    </tr>\n",
       "    <tr>\n",
       "      <th>3</th>\n",
       "      <td>5. Frequency</td>\n",
       "      <td>7.4</td>\n",
       "      <td>1h 58m</td>\n",
       "      <td>2000</td>\n",
       "      <td>drama</td>\n",
       "      <td>Gregory Hoblit</td>\n",
       "      <td>67\\nMetascore</td>\n",
       "    </tr>\n",
       "    <tr>\n",
       "      <th>4</th>\n",
       "      <td>6. Ginger Snaps</td>\n",
       "      <td>6.8</td>\n",
       "      <td>1h 48m</td>\n",
       "      <td>2000</td>\n",
       "      <td>drama</td>\n",
       "      <td>John Fawcett</td>\n",
       "      <td>70\\nMetascore</td>\n",
       "    </tr>\n",
       "    <tr>\n",
       "      <th>...</th>\n",
       "      <td>...</td>\n",
       "      <td>...</td>\n",
       "      <td>...</td>\n",
       "      <td>...</td>\n",
       "      <td>...</td>\n",
       "      <td>...</td>\n",
       "      <td>...</td>\n",
       "    </tr>\n",
       "    <tr>\n",
       "      <th>2002</th>\n",
       "      <td>832. Extraction II</td>\n",
       "      <td>7.0</td>\n",
       "      <td>2h 2m</td>\n",
       "      <td>2023</td>\n",
       "      <td>crime</td>\n",
       "      <td>Sam Hargrave</td>\n",
       "      <td>57\\nMetascore</td>\n",
       "    </tr>\n",
       "    <tr>\n",
       "      <th>2003</th>\n",
       "      <td>843. House of Sand and Fog</td>\n",
       "      <td>7.5</td>\n",
       "      <td>2h 6m</td>\n",
       "      <td>2003</td>\n",
       "      <td>crime</td>\n",
       "      <td>Vadim Perelman</td>\n",
       "      <td>71\\nMetascore</td>\n",
       "    </tr>\n",
       "    <tr>\n",
       "      <th>2004</th>\n",
       "      <td>847. Hit Man</td>\n",
       "      <td>6.8</td>\n",
       "      <td>1h 55m</td>\n",
       "      <td>2023</td>\n",
       "      <td>crime</td>\n",
       "      <td>Richard Linklater</td>\n",
       "      <td>82\\nMetascore</td>\n",
       "    </tr>\n",
       "    <tr>\n",
       "      <th>2005</th>\n",
       "      <td>848. Shakhahaari</td>\n",
       "      <td>7.6</td>\n",
       "      <td>2h 25m</td>\n",
       "      <td>2024</td>\n",
       "      <td>crime</td>\n",
       "      <td>Sandeep Sunkad</td>\n",
       "      <td>N/A</td>\n",
       "    </tr>\n",
       "    <tr>\n",
       "      <th>2006</th>\n",
       "      <td>859. Kill</td>\n",
       "      <td>7.5</td>\n",
       "      <td>1h 45m</td>\n",
       "      <td>2023</td>\n",
       "      <td>crime</td>\n",
       "      <td>Nikhil Nagesh Bhat</td>\n",
       "      <td>74\\nMetascore</td>\n",
       "    </tr>\n",
       "  </tbody>\n",
       "</table>\n",
       "<p>2007 rows × 7 columns</p>\n",
       "</div>"
      ],
      "text/plain": [
       "                             Movie_name Rating Duration Release_year  Genre  \\\n",
       "0                    1. American Psycho    7.6   1h 42m         2000  drama   \n",
       "1                      2. Battle Royale    7.5   1h 54m         2000  drama   \n",
       "2     3. Crouching Tiger, Hidden Dragon    7.9       2h         2000  drama   \n",
       "3                          5. Frequency    7.4   1h 58m         2000  drama   \n",
       "4                       6. Ginger Snaps    6.8   1h 48m         2000  drama   \n",
       "...                                 ...    ...      ...          ...    ...   \n",
       "2002                 832. Extraction II    7.0    2h 2m         2023  crime   \n",
       "2003         843. House of Sand and Fog    7.5    2h 6m         2003  crime   \n",
       "2004                       847. Hit Man    6.8   1h 55m         2023  crime   \n",
       "2005                   848. Shakhahaari    7.6   2h 25m         2024  crime   \n",
       "2006                          859. Kill    7.5   1h 45m         2023  crime   \n",
       "\n",
       "                Director     Meta-score  \n",
       "0            Mary Harron  64\\nMetascore  \n",
       "1         Kinji Fukasaku  81\\nMetascore  \n",
       "2                Ang Lee  94\\nMetascore  \n",
       "3         Gregory Hoblit  67\\nMetascore  \n",
       "4           John Fawcett  70\\nMetascore  \n",
       "...                  ...            ...  \n",
       "2002        Sam Hargrave  57\\nMetascore  \n",
       "2003      Vadim Perelman  71\\nMetascore  \n",
       "2004   Richard Linklater  82\\nMetascore  \n",
       "2005      Sandeep Sunkad            N/A  \n",
       "2006  Nikhil Nagesh Bhat  74\\nMetascore  \n",
       "\n",
       "[2007 rows x 7 columns]"
      ]
     },
     "execution_count": 105,
     "metadata": {},
     "output_type": "execute_result"
    }
   ],
   "source": [
    "df2 = pd.DataFrame(movie2)\n",
    "df2"
   ]
  },
  {
   "cell_type": "code",
   "execution_count": 42,
   "metadata": {},
   "outputs": [
    {
     "data": {
      "text/plain": [
       "833"
      ]
     },
     "execution_count": 42,
     "metadata": {},
     "output_type": "execute_result"
    }
   ],
   "source": [
    "df2['Movie_name'].nunique()"
   ]
  },
  {
   "cell_type": "code",
   "execution_count": 106,
   "metadata": {},
   "outputs": [],
   "source": [
    "x = df2[\"Meta-score\"].str.split(\"\\n\", expand = True)\n"
   ]
  },
  {
   "cell_type": "code",
   "execution_count": 107,
   "metadata": {},
   "outputs": [],
   "source": [
    "df2[\"Meta_score\"] = x[0]"
   ]
  },
  {
   "cell_type": "code",
   "execution_count": 109,
   "metadata": {},
   "outputs": [
    {
     "data": {
      "text/html": [
       "<div>\n",
       "<style scoped>\n",
       "    .dataframe tbody tr th:only-of-type {\n",
       "        vertical-align: middle;\n",
       "    }\n",
       "\n",
       "    .dataframe tbody tr th {\n",
       "        vertical-align: top;\n",
       "    }\n",
       "\n",
       "    .dataframe thead th {\n",
       "        text-align: right;\n",
       "    }\n",
       "</style>\n",
       "<table border=\"1\" class=\"dataframe\">\n",
       "  <thead>\n",
       "    <tr style=\"text-align: right;\">\n",
       "      <th></th>\n",
       "      <th>Movie_name</th>\n",
       "      <th>Rating</th>\n",
       "      <th>Duration</th>\n",
       "      <th>Release_year</th>\n",
       "      <th>Genre</th>\n",
       "      <th>Director</th>\n",
       "      <th>Meta_score</th>\n",
       "    </tr>\n",
       "  </thead>\n",
       "  <tbody>\n",
       "    <tr>\n",
       "      <th>0</th>\n",
       "      <td>1. American Psycho</td>\n",
       "      <td>7.6</td>\n",
       "      <td>1h 42m</td>\n",
       "      <td>2000</td>\n",
       "      <td>drama</td>\n",
       "      <td>Mary Harron</td>\n",
       "      <td>64</td>\n",
       "    </tr>\n",
       "    <tr>\n",
       "      <th>1</th>\n",
       "      <td>2. Battle Royale</td>\n",
       "      <td>7.5</td>\n",
       "      <td>1h 54m</td>\n",
       "      <td>2000</td>\n",
       "      <td>drama</td>\n",
       "      <td>Kinji Fukasaku</td>\n",
       "      <td>81</td>\n",
       "    </tr>\n",
       "    <tr>\n",
       "      <th>2</th>\n",
       "      <td>3. Crouching Tiger, Hidden Dragon</td>\n",
       "      <td>7.9</td>\n",
       "      <td>2h</td>\n",
       "      <td>2000</td>\n",
       "      <td>drama</td>\n",
       "      <td>Ang Lee</td>\n",
       "      <td>94</td>\n",
       "    </tr>\n",
       "    <tr>\n",
       "      <th>3</th>\n",
       "      <td>5. Frequency</td>\n",
       "      <td>7.4</td>\n",
       "      <td>1h 58m</td>\n",
       "      <td>2000</td>\n",
       "      <td>drama</td>\n",
       "      <td>Gregory Hoblit</td>\n",
       "      <td>67</td>\n",
       "    </tr>\n",
       "    <tr>\n",
       "      <th>4</th>\n",
       "      <td>6. Ginger Snaps</td>\n",
       "      <td>6.8</td>\n",
       "      <td>1h 48m</td>\n",
       "      <td>2000</td>\n",
       "      <td>drama</td>\n",
       "      <td>John Fawcett</td>\n",
       "      <td>70</td>\n",
       "    </tr>\n",
       "    <tr>\n",
       "      <th>...</th>\n",
       "      <td>...</td>\n",
       "      <td>...</td>\n",
       "      <td>...</td>\n",
       "      <td>...</td>\n",
       "      <td>...</td>\n",
       "      <td>...</td>\n",
       "      <td>...</td>\n",
       "    </tr>\n",
       "    <tr>\n",
       "      <th>2002</th>\n",
       "      <td>832. Extraction II</td>\n",
       "      <td>7.0</td>\n",
       "      <td>2h 2m</td>\n",
       "      <td>2023</td>\n",
       "      <td>crime</td>\n",
       "      <td>Sam Hargrave</td>\n",
       "      <td>57</td>\n",
       "    </tr>\n",
       "    <tr>\n",
       "      <th>2003</th>\n",
       "      <td>843. House of Sand and Fog</td>\n",
       "      <td>7.5</td>\n",
       "      <td>2h 6m</td>\n",
       "      <td>2003</td>\n",
       "      <td>crime</td>\n",
       "      <td>Vadim Perelman</td>\n",
       "      <td>71</td>\n",
       "    </tr>\n",
       "    <tr>\n",
       "      <th>2004</th>\n",
       "      <td>847. Hit Man</td>\n",
       "      <td>6.8</td>\n",
       "      <td>1h 55m</td>\n",
       "      <td>2023</td>\n",
       "      <td>crime</td>\n",
       "      <td>Richard Linklater</td>\n",
       "      <td>82</td>\n",
       "    </tr>\n",
       "    <tr>\n",
       "      <th>2005</th>\n",
       "      <td>848. Shakhahaari</td>\n",
       "      <td>7.6</td>\n",
       "      <td>2h 25m</td>\n",
       "      <td>2024</td>\n",
       "      <td>crime</td>\n",
       "      <td>Sandeep Sunkad</td>\n",
       "      <td>N/A</td>\n",
       "    </tr>\n",
       "    <tr>\n",
       "      <th>2006</th>\n",
       "      <td>859. Kill</td>\n",
       "      <td>7.5</td>\n",
       "      <td>1h 45m</td>\n",
       "      <td>2023</td>\n",
       "      <td>crime</td>\n",
       "      <td>Nikhil Nagesh Bhat</td>\n",
       "      <td>74</td>\n",
       "    </tr>\n",
       "  </tbody>\n",
       "</table>\n",
       "<p>2007 rows × 7 columns</p>\n",
       "</div>"
      ],
      "text/plain": [
       "                             Movie_name Rating Duration Release_year  Genre  \\\n",
       "0                    1. American Psycho    7.6   1h 42m         2000  drama   \n",
       "1                      2. Battle Royale    7.5   1h 54m         2000  drama   \n",
       "2     3. Crouching Tiger, Hidden Dragon    7.9       2h         2000  drama   \n",
       "3                          5. Frequency    7.4   1h 58m         2000  drama   \n",
       "4                       6. Ginger Snaps    6.8   1h 48m         2000  drama   \n",
       "...                                 ...    ...      ...          ...    ...   \n",
       "2002                 832. Extraction II    7.0    2h 2m         2023  crime   \n",
       "2003         843. House of Sand and Fog    7.5    2h 6m         2003  crime   \n",
       "2004                       847. Hit Man    6.8   1h 55m         2023  crime   \n",
       "2005                   848. Shakhahaari    7.6   2h 25m         2024  crime   \n",
       "2006                          859. Kill    7.5   1h 45m         2023  crime   \n",
       "\n",
       "                Director Meta_score  \n",
       "0            Mary Harron         64  \n",
       "1         Kinji Fukasaku         81  \n",
       "2                Ang Lee         94  \n",
       "3         Gregory Hoblit         67  \n",
       "4           John Fawcett         70  \n",
       "...                  ...        ...  \n",
       "2002        Sam Hargrave         57  \n",
       "2003      Vadim Perelman         71  \n",
       "2004   Richard Linklater         82  \n",
       "2005      Sandeep Sunkad        N/A  \n",
       "2006  Nikhil Nagesh Bhat         74  \n",
       "\n",
       "[2007 rows x 7 columns]"
      ]
     },
     "execution_count": 109,
     "metadata": {},
     "output_type": "execute_result"
    }
   ],
   "source": [
    "df2"
   ]
  },
  {
   "cell_type": "code",
   "execution_count": 108,
   "metadata": {},
   "outputs": [],
   "source": [
    "df2.drop(columns= 'Meta-score', inplace = True)"
   ]
  },
  {
   "cell_type": "code",
   "execution_count": null,
   "metadata": {},
   "outputs": [],
   "source": [
    "df2[\"Meta_score\"] = df2['Meta_score'].replace(\"N/A\",0)\n",
    "df2"
   ]
  },
  {
   "cell_type": "code",
   "execution_count": 56,
   "metadata": {},
   "outputs": [
    {
     "name": "stdout",
     "output_type": "stream",
     "text": [
      "<class 'pandas.core.frame.DataFrame'>\n",
      "RangeIndex: 2007 entries, 0 to 2006\n",
      "Data columns (total 7 columns):\n",
      " #   Column        Non-Null Count  Dtype \n",
      "---  ------        --------------  ----- \n",
      " 0   Movie_name    2007 non-null   object\n",
      " 1   Rating        2007 non-null   object\n",
      " 2   Duration      2007 non-null   object\n",
      " 3   Release_year  2007 non-null   object\n",
      " 4   Genre         2007 non-null   object\n",
      " 5   Director      2007 non-null   object\n",
      " 6   Meta_score    2007 non-null   object\n",
      "dtypes: object(7)\n",
      "memory usage: 109.9+ KB\n"
     ]
    }
   ],
   "source": [
    "df.info()"
   ]
  },
  {
   "cell_type": "code",
   "execution_count": 113,
   "metadata": {},
   "outputs": [],
   "source": [
    "df2['Rating'] = df2['Rating'].astype(float)\n",
    "df2[\"Meta_score\"] = df2['Meta_score'].astype(int)\n",
    "df2['Release_year'] = pd.to_datetime(df2['Release_year'], errors='coerce')"
   ]
  },
  {
   "cell_type": "code",
   "execution_count": 114,
   "metadata": {},
   "outputs": [
    {
     "name": "stdout",
     "output_type": "stream",
     "text": [
      "<class 'pandas.core.frame.DataFrame'>\n",
      "RangeIndex: 2007 entries, 0 to 2006\n",
      "Data columns (total 7 columns):\n",
      " #   Column        Non-Null Count  Dtype         \n",
      "---  ------        --------------  -----         \n",
      " 0   Movie_name    2007 non-null   object        \n",
      " 1   Rating        2007 non-null   float64       \n",
      " 2   Duration      2007 non-null   object        \n",
      " 3   Release_year  2007 non-null   datetime64[ns]\n",
      " 4   Genre         2007 non-null   object        \n",
      " 5   Director      2007 non-null   object        \n",
      " 6   Meta_score    2007 non-null   int64         \n",
      "dtypes: datetime64[ns](1), float64(1), int64(1), object(4)\n",
      "memory usage: 109.9+ KB\n"
     ]
    }
   ],
   "source": [
    "df2.info()"
   ]
  },
  {
   "cell_type": "code",
   "execution_count": 63,
   "metadata": {},
   "outputs": [
    {
     "name": "stdout",
     "output_type": "stream",
     "text": [
      "<class 'pandas.core.frame.DataFrame'>\n",
      "RangeIndex: 2007 entries, 0 to 2006\n",
      "Data columns (total 7 columns):\n",
      " #   Column        Non-Null Count  Dtype \n",
      "---  ------        --------------  ----- \n",
      " 0   Movie_name    2007 non-null   object\n",
      " 1   Rating        2007 non-null   object\n",
      " 2   Duration      2007 non-null   object\n",
      " 3   Release_year  2007 non-null   object\n",
      " 4   Genre         2007 non-null   object\n",
      " 5   Director      2007 non-null   object\n",
      " 6   Meta_score    2007 non-null   object\n",
      "dtypes: object(7)\n",
      "memory usage: 109.9+ KB\n"
     ]
    }
   ],
   "source": [
    "df.info()"
   ]
  },
  {
   "cell_type": "code",
   "execution_count": 115,
   "metadata": {},
   "outputs": [],
   "source": [
    "df2.to_csv(\"Movies_rating.csv\")"
   ]
  },
  {
   "cell_type": "code",
   "execution_count": null,
   "metadata": {},
   "outputs": [],
   "source": []
  }
 ],
 "metadata": {
  "kernelspec": {
   "display_name": "Python 3",
   "language": "python",
   "name": "python3"
  },
  "language_info": {
   "codemirror_mode": {
    "name": "ipython",
    "version": 3
   },
   "file_extension": ".py",
   "mimetype": "text/x-python",
   "name": "python",
   "nbconvert_exporter": "python",
   "pygments_lexer": "ipython3",
   "version": "3.12.0"
  }
 },
 "nbformat": 4,
 "nbformat_minor": 2
}
